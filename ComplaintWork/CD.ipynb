{
 "cells": [
  {
   "cell_type": "code",
   "execution_count": 56,
   "id": "f54e5716-04fb-478d-b41f-9f20f291b7db",
   "metadata": {
    "tags": []
   },
   "outputs": [],
   "source": [
    "import pandas as pd\n",
    "from keybert import KeyBERT\n",
    "import seaborn as sns\n",
    "from sklearn.feature_extraction.text import CountVectorizer, TfidfVectorizer, TfidfTransformer\n"
   ]
  },
  {
   "cell_type": "code",
   "execution_count": 2,
   "id": "b6768533-6f38-46c6-9b44-7c0ef45cb22c",
   "metadata": {
    "tags": []
   },
   "outputs": [
    {
     "name": "stdout",
     "output_type": "stream",
     "text": [
      "Defaulting to user installation because normal site-packages is not writeable\n",
      "Collecting keybert\n",
      "  Downloading keybert-0.7.0.tar.gz (21 kB)\n",
      "  Preparing metadata (setup.py): started\n",
      "  Preparing metadata (setup.py): finished with status 'done'\n",
      "Collecting sentence-transformers>=0.3.8\n",
      "  Downloading sentence-transformers-2.2.2.tar.gz (85 kB)\n",
      "     ---------------------------------------- 86.0/86.0 kB 1.2 MB/s eta 0:00:00\n",
      "  Preparing metadata (setup.py): started\n",
      "  Preparing metadata (setup.py): finished with status 'done'\n",
      "Requirement already satisfied: scikit-learn>=0.22.2 in c:\\users\\user_elisey\\appdata\\roaming\\python\\python310\\site-packages (from keybert) (1.2.2)\n",
      "Requirement already satisfied: numpy>=1.18.5 in c:\\users\\user_elisey\\appdata\\roaming\\python\\python310\\site-packages (from keybert) (1.24.2)\n",
      "Collecting rich>=10.4.0\n",
      "  Downloading rich-13.3.3-py3-none-any.whl (238 kB)\n",
      "     -------------------------------------- 238.7/238.7 kB 3.6 MB/s eta 0:00:00\n",
      "Requirement already satisfied: pygments<3.0.0,>=2.13.0 in c:\\users\\user_elisey\\appdata\\roaming\\python\\python310\\site-packages (from rich>=10.4.0->keybert) (2.14.0)\n",
      "Collecting markdown-it-py<3.0.0,>=2.2.0\n",
      "  Downloading markdown_it_py-2.2.0-py3-none-any.whl (84 kB)\n",
      "     ---------------------------------------- 84.5/84.5 kB ? eta 0:00:00\n",
      "Requirement already satisfied: threadpoolctl>=2.0.0 in c:\\users\\user_elisey\\appdata\\roaming\\python\\python310\\site-packages (from scikit-learn>=0.22.2->keybert) (3.1.0)\n",
      "Requirement already satisfied: joblib>=1.1.1 in c:\\users\\user_elisey\\appdata\\roaming\\python\\python310\\site-packages (from scikit-learn>=0.22.2->keybert) (1.2.0)\n",
      "Requirement already satisfied: scipy>=1.3.2 in c:\\users\\user_elisey\\appdata\\roaming\\python\\python310\\site-packages (from scikit-learn>=0.22.2->keybert) (1.10.1)\n",
      "Collecting transformers<5.0.0,>=4.6.0\n",
      "  Downloading transformers-4.27.4-py3-none-any.whl (6.8 MB)\n",
      "     ---------------------------------------- 6.8/6.8 MB 15.4 MB/s eta 0:00:00\n",
      "Requirement already satisfied: tqdm in c:\\users\\user_elisey\\appdata\\roaming\\python\\python310\\site-packages (from sentence-transformers>=0.3.8->keybert) (4.65.0)\n",
      "Collecting torch>=1.6.0\n",
      "  Downloading torch-2.0.0-cp310-cp310-win_amd64.whl (172.3 MB)\n",
      "     ------------------------------------- 172.3/172.3 MB 11.1 MB/s eta 0:00:00\n",
      "Collecting torchvision\n",
      "  Downloading torchvision-0.15.1-cp310-cp310-win_amd64.whl (1.2 MB)\n",
      "     ---------------------------------------- 1.2/1.2 MB 12.7 MB/s eta 0:00:00\n",
      "Requirement already satisfied: nltk in c:\\users\\user_elisey\\appdata\\roaming\\python\\python310\\site-packages (from sentence-transformers>=0.3.8->keybert) (3.8.1)\n",
      "Collecting sentencepiece\n",
      "  Downloading sentencepiece-0.1.98-cp310-cp310-win_amd64.whl (977 kB)\n",
      "     ------------------------------------- 977.8/977.8 kB 12.4 MB/s eta 0:00:00\n",
      "Collecting huggingface-hub>=0.4.0\n",
      "  Downloading huggingface_hub-0.13.4-py3-none-any.whl (200 kB)\n",
      "     -------------------------------------- 200.1/200.1 kB 6.1 MB/s eta 0:00:00\n",
      "Requirement already satisfied: packaging>=20.9 in c:\\users\\user_elisey\\appdata\\roaming\\python\\python310\\site-packages (from huggingface-hub>=0.4.0->sentence-transformers>=0.3.8->keybert) (23.0)\n",
      "Requirement already satisfied: requests in c:\\users\\user_elisey\\appdata\\roaming\\python\\python310\\site-packages (from huggingface-hub>=0.4.0->sentence-transformers>=0.3.8->keybert) (2.28.2)\n",
      "Collecting filelock\n",
      "  Downloading filelock-3.11.0-py3-none-any.whl (10.0 kB)\n",
      "Requirement already satisfied: pyyaml>=5.1 in c:\\users\\user_elisey\\appdata\\roaming\\python\\python310\\site-packages (from huggingface-hub>=0.4.0->sentence-transformers>=0.3.8->keybert) (6.0)\n",
      "Collecting typing-extensions>=3.7.4.3\n",
      "  Downloading typing_extensions-4.5.0-py3-none-any.whl (27 kB)\n",
      "Collecting mdurl~=0.1\n",
      "  Downloading mdurl-0.1.2-py3-none-any.whl (10.0 kB)\n",
      "Requirement already satisfied: networkx in c:\\users\\user_elisey\\appdata\\roaming\\python\\python310\\site-packages (from torch>=1.6.0->sentence-transformers>=0.3.8->keybert) (3.1)\n",
      "Collecting sympy\n",
      "  Downloading sympy-1.11.1-py3-none-any.whl (6.5 MB)\n",
      "     ---------------------------------------- 6.5/6.5 MB 11.8 MB/s eta 0:00:00\n",
      "Requirement already satisfied: jinja2 in c:\\users\\user_elisey\\appdata\\roaming\\python\\python310\\site-packages (from torch>=1.6.0->sentence-transformers>=0.3.8->keybert) (3.1.2)\n",
      "Requirement already satisfied: colorama in c:\\users\\user_elisey\\appdata\\roaming\\python\\python310\\site-packages (from tqdm->sentence-transformers>=0.3.8->keybert) (0.4.6)\n",
      "Collecting tokenizers!=0.11.3,<0.14,>=0.11.1\n",
      "  Downloading tokenizers-0.13.3-cp310-cp310-win_amd64.whl (3.5 MB)\n",
      "     ---------------------------------------- 3.5/3.5 MB 12.3 MB/s eta 0:00:00\n",
      "Requirement already satisfied: regex!=2019.12.17 in c:\\users\\user_elisey\\appdata\\roaming\\python\\python310\\site-packages (from transformers<5.0.0,>=4.6.0->sentence-transformers>=0.3.8->keybert) (2023.3.23)\n",
      "Requirement already satisfied: click in c:\\users\\user_elisey\\appdata\\roaming\\python\\python310\\site-packages (from nltk->sentence-transformers>=0.3.8->keybert) (8.1.3)\n",
      "Requirement already satisfied: pillow!=8.3.*,>=5.3.0 in c:\\users\\user_elisey\\appdata\\roaming\\python\\python310\\site-packages (from torchvision->sentence-transformers>=0.3.8->keybert) (9.5.0)\n",
      "Requirement already satisfied: MarkupSafe>=2.0 in c:\\users\\user_elisey\\appdata\\roaming\\python\\python310\\site-packages (from jinja2->torch>=1.6.0->sentence-transformers>=0.3.8->keybert) (2.1.2)\n",
      "Requirement already satisfied: urllib3<1.27,>=1.21.1 in c:\\users\\user_elisey\\appdata\\roaming\\python\\python310\\site-packages (from requests->huggingface-hub>=0.4.0->sentence-transformers>=0.3.8->keybert) (1.26.15)\n",
      "Requirement already satisfied: certifi>=2017.4.17 in c:\\users\\user_elisey\\appdata\\roaming\\python\\python310\\site-packages (from requests->huggingface-hub>=0.4.0->sentence-transformers>=0.3.8->keybert) (2022.12.7)\n",
      "Requirement already satisfied: charset-normalizer<4,>=2 in c:\\users\\user_elisey\\appdata\\roaming\\python\\python310\\site-packages (from requests->huggingface-hub>=0.4.0->sentence-transformers>=0.3.8->keybert) (3.1.0)\n",
      "Requirement already satisfied: idna<4,>=2.5 in c:\\users\\user_elisey\\appdata\\roaming\\python\\python310\\site-packages (from requests->huggingface-hub>=0.4.0->sentence-transformers>=0.3.8->keybert) (3.4)\n",
      "Collecting mpmath>=0.19\n",
      "  Downloading mpmath-1.3.0-py3-none-any.whl (536 kB)\n",
      "     ------------------------------------- 536.2/536.2 kB 11.2 MB/s eta 0:00:00\n",
      "Using legacy 'setup.py install' for keybert, since package 'wheel' is not installed.\n",
      "Using legacy 'setup.py install' for sentence-transformers, since package 'wheel' is not installed.\n",
      "Installing collected packages: tokenizers, sentencepiece, mpmath, typing-extensions, sympy, mdurl, filelock, torch, markdown-it-py, huggingface-hub, transformers, torchvision, rich, sentence-transformers, keybert\n",
      "  Running setup.py install for sentence-transformers: started\n",
      "  Running setup.py install for sentence-transformers: finished with status 'done'\n",
      "  Running setup.py install for keybert: started\n",
      "  Running setup.py install for keybert: finished with status 'done'\n",
      "Successfully installed filelock-3.11.0 huggingface-hub-0.13.4 keybert-0.7.0 markdown-it-py-2.2.0 mdurl-0.1.2 mpmath-1.3.0 rich-13.3.3 sentence-transformers-2.2.2 sentencepiece-0.1.98 sympy-1.11.1 tokenizers-0.13.3 torch-2.0.0 torchvision-0.15.1 transformers-4.27.4 typing-extensions-4.5.0\n"
     ]
    },
    {
     "name": "stderr",
     "output_type": "stream",
     "text": [
      "  WARNING: The script isympy.exe is installed in 'C:\\Users\\USER_ELISEY\\AppData\\Roaming\\Python\\Python310\\Scripts' which is not on PATH.\n",
      "  Consider adding this directory to PATH or, if you prefer to suppress this warning, use --no-warn-script-location.\n",
      "  WARNING: The scripts convert-caffe2-to-onnx.exe, convert-onnx-to-caffe2.exe and torchrun.exe are installed in 'C:\\Users\\USER_ELISEY\\AppData\\Roaming\\Python\\Python310\\Scripts' which is not on PATH.\n",
      "  Consider adding this directory to PATH or, if you prefer to suppress this warning, use --no-warn-script-location.\n",
      "  WARNING: The script markdown-it.exe is installed in 'C:\\Users\\USER_ELISEY\\AppData\\Roaming\\Python\\Python310\\Scripts' which is not on PATH.\n",
      "  Consider adding this directory to PATH or, if you prefer to suppress this warning, use --no-warn-script-location.\n",
      "  WARNING: The script huggingface-cli.exe is installed in 'C:\\Users\\USER_ELISEY\\AppData\\Roaming\\Python\\Python310\\Scripts' which is not on PATH.\n",
      "  Consider adding this directory to PATH or, if you prefer to suppress this warning, use --no-warn-script-location.\n",
      "  WARNING: The script transformers-cli.exe is installed in 'C:\\Users\\USER_ELISEY\\AppData\\Roaming\\Python\\Python310\\Scripts' which is not on PATH.\n",
      "  Consider adding this directory to PATH or, if you prefer to suppress this warning, use --no-warn-script-location.\n",
      "\n",
      "[notice] A new release of pip available: 22.2.2 -> 23.0.1\n",
      "[notice] To update, run: python.exe -m pip install --upgrade pip\n"
     ]
    }
   ],
   "source": [
    "!pip3 install keybert"
   ]
  },
  {
   "cell_type": "code",
   "execution_count": 4,
   "id": "15ce14dc-4fe2-460b-93f8-00c5e24fff70",
   "metadata": {
    "tags": []
   },
   "outputs": [
    {
     "data": {
      "application/vnd.jupyter.widget-view+json": {
       "model_id": "5e96f0cfabde4241ad7cbf1bceba2168",
       "version_major": 2,
       "version_minor": 0
      },
      "text/plain": [
       "Downloading (…)e9125/.gitattributes:   0%|          | 0.00/1.18k [00:00<?, ?B/s]"
      ]
     },
     "metadata": {},
     "output_type": "display_data"
    },
    {
     "data": {
      "application/vnd.jupyter.widget-view+json": {
       "model_id": "4608b73580df451594618a75df878ce2",
       "version_major": 2,
       "version_minor": 0
      },
      "text/plain": [
       "Downloading (…)_Pooling/config.json:   0%|          | 0.00/190 [00:00<?, ?B/s]"
      ]
     },
     "metadata": {},
     "output_type": "display_data"
    },
    {
     "data": {
      "application/vnd.jupyter.widget-view+json": {
       "model_id": "3b3a84dfcd5d4aacb3caac0515505904",
       "version_major": 2,
       "version_minor": 0
      },
      "text/plain": [
       "Downloading (…)7e55de9125/README.md:   0%|          | 0.00/10.6k [00:00<?, ?B/s]"
      ]
     },
     "metadata": {},
     "output_type": "display_data"
    },
    {
     "data": {
      "application/vnd.jupyter.widget-view+json": {
       "model_id": "6578d18a8b9c4c85b94c3657cfaab98d",
       "version_major": 2,
       "version_minor": 0
      },
      "text/plain": [
       "Downloading (…)55de9125/config.json:   0%|          | 0.00/612 [00:00<?, ?B/s]"
      ]
     },
     "metadata": {},
     "output_type": "display_data"
    },
    {
     "data": {
      "application/vnd.jupyter.widget-view+json": {
       "model_id": "39df466a13b144e0bdd4c47656fde68a",
       "version_major": 2,
       "version_minor": 0
      },
      "text/plain": [
       "Downloading (…)ce_transformers.json:   0%|          | 0.00/116 [00:00<?, ?B/s]"
      ]
     },
     "metadata": {},
     "output_type": "display_data"
    },
    {
     "data": {
      "application/vnd.jupyter.widget-view+json": {
       "model_id": "8fcaafc485e4439d84d413426ea6fac6",
       "version_major": 2,
       "version_minor": 0
      },
      "text/plain": [
       "Downloading (…)125/data_config.json:   0%|          | 0.00/39.3k [00:00<?, ?B/s]"
      ]
     },
     "metadata": {},
     "output_type": "display_data"
    },
    {
     "data": {
      "application/vnd.jupyter.widget-view+json": {
       "model_id": "979507d98fd74429b18076a7d2335cd6",
       "version_major": 2,
       "version_minor": 0
      },
      "text/plain": [
       "Downloading pytorch_model.bin:   0%|          | 0.00/90.9M [00:00<?, ?B/s]"
      ]
     },
     "metadata": {},
     "output_type": "display_data"
    },
    {
     "data": {
      "application/vnd.jupyter.widget-view+json": {
       "model_id": "b0213a3f6d854a7c93943184a273862f",
       "version_major": 2,
       "version_minor": 0
      },
      "text/plain": [
       "Downloading (…)nce_bert_config.json:   0%|          | 0.00/53.0 [00:00<?, ?B/s]"
      ]
     },
     "metadata": {},
     "output_type": "display_data"
    },
    {
     "data": {
      "application/vnd.jupyter.widget-view+json": {
       "model_id": "e56d1052ec5f491d8f286009cf80463f",
       "version_major": 2,
       "version_minor": 0
      },
      "text/plain": [
       "Downloading (…)cial_tokens_map.json:   0%|          | 0.00/112 [00:00<?, ?B/s]"
      ]
     },
     "metadata": {},
     "output_type": "display_data"
    },
    {
     "data": {
      "application/vnd.jupyter.widget-view+json": {
       "model_id": "0b4e164eaa4f4f1e8a63c45d517cc84d",
       "version_major": 2,
       "version_minor": 0
      },
      "text/plain": [
       "Downloading (…)e9125/tokenizer.json:   0%|          | 0.00/466k [00:00<?, ?B/s]"
      ]
     },
     "metadata": {},
     "output_type": "display_data"
    },
    {
     "data": {
      "application/vnd.jupyter.widget-view+json": {
       "model_id": "baf7cf22efec46f0934b84dd3740b46b",
       "version_major": 2,
       "version_minor": 0
      },
      "text/plain": [
       "Downloading (…)okenizer_config.json:   0%|          | 0.00/350 [00:00<?, ?B/s]"
      ]
     },
     "metadata": {},
     "output_type": "display_data"
    },
    {
     "data": {
      "application/vnd.jupyter.widget-view+json": {
       "model_id": "11b62ef8d7cc487cb33256b0d10bde2e",
       "version_major": 2,
       "version_minor": 0
      },
      "text/plain": [
       "Downloading (…)9125/train_script.py:   0%|          | 0.00/13.2k [00:00<?, ?B/s]"
      ]
     },
     "metadata": {},
     "output_type": "display_data"
    },
    {
     "data": {
      "application/vnd.jupyter.widget-view+json": {
       "model_id": "1acc0f4ee4294b5c86edff33f180355a",
       "version_major": 2,
       "version_minor": 0
      },
      "text/plain": [
       "Downloading (…)7e55de9125/vocab.txt:   0%|          | 0.00/232k [00:00<?, ?B/s]"
      ]
     },
     "metadata": {},
     "output_type": "display_data"
    },
    {
     "data": {
      "application/vnd.jupyter.widget-view+json": {
       "model_id": "830061f89fd142ef8d66eacccc49fd49",
       "version_major": 2,
       "version_minor": 0
      },
      "text/plain": [
       "Downloading (…)5de9125/modules.json:   0%|          | 0.00/349 [00:00<?, ?B/s]"
      ]
     },
     "metadata": {},
     "output_type": "display_data"
    }
   ],
   "source": [
    "kw_model = KeyBERT()\n",
    "keywords = kw_model.extract_keywords('''Supervised learning is the machine learning task of learning a function that\n",
    "         maps an input to an output based on example input-output pairs. It infers a\n",
    "         function from labeled training data consisting of a set of training examples.\n",
    "         In supervised learning, each example is a pair consisting of an input object\n",
    "         (typically a vector) and a desired output value (also called the supervisory signal).\n",
    "         A supervised learning algorithm analyzes the training data and produces an inferred function,\n",
    "         which can be used for mapping new examples. An optimal scenario will allow for the\n",
    "         algorithm to correctly determine the class labels for unseen instances. This requires\n",
    "         the learning algorithm to generalize from the training data to unseen situations in a\n",
    "         'reasonable' way (see inductive bias).\n",
    "''', keyphrase_ngram_range=(1, 3))\n"
   ]
  },
  {
   "cell_type": "code",
   "execution_count": 7,
   "id": "e544d00f-8d9f-4f61-a4cb-4ef0e247d585",
   "metadata": {
    "tags": []
   },
   "outputs": [
    {
     "name": "stdout",
     "output_type": "stream",
     "text": [
      "CPU times: total: 2.5 s\n",
      "Wall time: 323 ms\n"
     ]
    }
   ],
   "source": [
    "%%time\n",
    "keywords = kw_model.extract_keywords('''Supervised learning is the machine learning task of learning a function that\n",
    "         maps an input to an output based on example input-output pairs. It infers a\n",
    "         function from labeled training data consisting of a set of training examples.\n",
    "         In supervised learning, each example is a pair consisting of an input object\n",
    "         (typically a vector) and a desired output value (also called the supervisory signal).\n",
    "         A supervised learning algorithm analyzes the training data and produces an inferred function,\n",
    "         which can be used for mapping new examples. An optimal scenario will allow for the\n",
    "         algorithm to correctly determine the class labels for unseen instances. This requires\n",
    "         the learning algorithm to generalize from the training data to unseen situations in a\n",
    "         'reasonable' way (see inductive bias).\n",
    "''', keyphrase_ngram_range=(1, 3))"
   ]
  },
  {
   "cell_type": "code",
   "execution_count": 20,
   "id": "5ce2e2c6-02b7-43f9-b405-0ab7e1a87e95",
   "metadata": {
    "tags": []
   },
   "outputs": [
    {
     "name": "stderr",
     "output_type": "stream",
     "text": [
      "C:\\Users\\USER_ELISEY\\AppData\\Local\\Temp\\ipykernel_18704\\3186319543.py:1: DtypeWarning: Columns (9) have mixed types. Specify dtype option on import or set low_memory=False.\n",
      "  complaints = pd.read_csv(\"./complaints/complaints.csv\").dropna().head(3000)\n"
     ]
    }
   ],
   "source": [
    "complaints = pd.read_csv(\"./complaints/complaints.csv\").dropna().head(3000)"
   ]
  },
  {
   "cell_type": "code",
   "execution_count": 24,
   "id": "1d080cff-7cc4-4bb8-a0f9-455634d555f2",
   "metadata": {
    "tags": []
   },
   "outputs": [],
   "source": [
    "complaints = complaints.rename(columns={\"Consumer complaint narrative\": \"narrative\"})"
   ]
  },
  {
   "cell_type": "code",
   "execution_count": 26,
   "id": "b0777b90-51a3-42c3-985b-fb01fe2aebca",
   "metadata": {
    "tags": []
   },
   "outputs": [
    {
     "name": "stdout",
     "output_type": "stream",
     "text": [
      "INFO: Pandarallel will run on 8 workers.\n",
      "INFO: Pandarallel will use standard multiprocessing data transfer (pipe) to transfer data between the main process and workers.\n",
      "\n",
      "WARNING: You are on Windows. If you detect any issue with pandarallel, be sure you checked out the Troubleshooting page:\n",
      "https://nalepae.github.io/pandarallel/troubleshooting/\n"
     ]
    }
   ],
   "source": [
    "from pandarallel import pandarallel\n",
    "pandarallel.initialize(progress_bar=True)\n"
   ]
  },
  {
   "cell_type": "code",
   "execution_count": 30,
   "id": "e4225a4c-798e-4c18-bc36-cdba20bd66af",
   "metadata": {
    "tags": []
   },
   "outputs": [],
   "source": [
    "def f(text):\n",
    "    from keybert import KeyBERT\n",
    "    return [i[0] for i in KeyBERT().extract_keywords(text, keyphrase_ngram_range=(1, 3))]"
   ]
  },
  {
   "cell_type": "code",
   "execution_count": 31,
   "id": "02923431-6b69-40ed-a714-00faf4d77657",
   "metadata": {
    "tags": []
   },
   "outputs": [
    {
     "data": {
      "text/plain": [
       "['termination fees rent',\n",
       " 'given notice vacate',\n",
       " 'early termination fees',\n",
       " 'termination fees',\n",
       " 'notice vacate']"
      ]
     },
     "execution_count": 31,
     "metadata": {},
     "output_type": "execute_result"
    }
   ],
   "source": [
    "f(complaints.iloc[0].narrative)"
   ]
  },
  {
   "cell_type": "code",
   "execution_count": 34,
   "id": "91ff1541-6cee-4b06-8890-d5cfec3f47f5",
   "metadata": {
    "tags": []
   },
   "outputs": [
    {
     "data": {
      "application/vnd.jupyter.widget-view+json": {
       "model_id": "be62afe91e13487fbee8754a918d61c7",
       "version_major": 2,
       "version_minor": 0
      },
      "text/plain": [
       "VBox(children=(HBox(children=(IntProgress(value=0, description='0.00%', max=375), Label(value='0 / 375'))), HB…"
      ]
     },
     "metadata": {},
     "output_type": "display_data"
    }
   ],
   "source": [
    "complaints[\"narrative_keyngrams\"] = complaints[\"narrative\"].parallel_apply(f)"
   ]
  },
  {
   "cell_type": "code",
   "execution_count": 35,
   "id": "b533368f-a653-43ea-814d-605f525b6e0d",
   "metadata": {
    "tags": []
   },
   "outputs": [
    {
     "data": {
      "text/html": [
       "<div>\n",
       "<style scoped>\n",
       "    .dataframe tbody tr th:only-of-type {\n",
       "        vertical-align: middle;\n",
       "    }\n",
       "\n",
       "    .dataframe tbody tr th {\n",
       "        vertical-align: top;\n",
       "    }\n",
       "\n",
       "    .dataframe thead th {\n",
       "        text-align: right;\n",
       "    }\n",
       "</style>\n",
       "<table border=\"1\" class=\"dataframe\">\n",
       "  <thead>\n",
       "    <tr style=\"text-align: right;\">\n",
       "      <th></th>\n",
       "      <th>Date received</th>\n",
       "      <th>Product</th>\n",
       "      <th>Sub-product</th>\n",
       "      <th>Issue</th>\n",
       "      <th>Sub-issue</th>\n",
       "      <th>narrative</th>\n",
       "      <th>Company public response</th>\n",
       "      <th>Company</th>\n",
       "      <th>State</th>\n",
       "      <th>ZIP code</th>\n",
       "      <th>Tags</th>\n",
       "      <th>Consumer consent provided?</th>\n",
       "      <th>Submitted via</th>\n",
       "      <th>Date sent to company</th>\n",
       "      <th>Company response to consumer</th>\n",
       "      <th>Timely response?</th>\n",
       "      <th>Consumer disputed?</th>\n",
       "      <th>Complaint ID</th>\n",
       "      <th>narrative_keyngrams</th>\n",
       "    </tr>\n",
       "  </thead>\n",
       "  <tbody>\n",
       "    <tr>\n",
       "      <th>6880</th>\n",
       "      <td>2016-02-16</td>\n",
       "      <td>Debt collection</td>\n",
       "      <td>Other (i.e. phone, health club, etc.)</td>\n",
       "      <td>Cont'd attempts collect debt not owed</td>\n",
       "      <td>Debt was paid</td>\n",
       "      <td>I was given a notice to vacate XX/XX/2015. I p...</td>\n",
       "      <td>Company believes the complaint is the result o...</td>\n",
       "      <td>HW Holding, Inc</td>\n",
       "      <td>FL</td>\n",
       "      <td>34711.0</td>\n",
       "      <td>Servicemember</td>\n",
       "      <td>Consent provided</td>\n",
       "      <td>Web</td>\n",
       "      <td>2016-02-19</td>\n",
       "      <td>Closed with explanation</td>\n",
       "      <td>Yes</td>\n",
       "      <td>No</td>\n",
       "      <td>1788003</td>\n",
       "      <td>[termination fees rent, given notice vacate, e...</td>\n",
       "    </tr>\n",
       "    <tr>\n",
       "      <th>6931</th>\n",
       "      <td>2015-11-08</td>\n",
       "      <td>Debt collection</td>\n",
       "      <td>Medical</td>\n",
       "      <td>Disclosure verification of debt</td>\n",
       "      <td>Right to dispute notice not received</td>\n",
       "      <td>I called this Revenue Recovery to ask for an i...</td>\n",
       "      <td>Company chooses not to provide a public response</td>\n",
       "      <td>Revenue Recovery Corporation</td>\n",
       "      <td>KY</td>\n",
       "      <td>40272.0</td>\n",
       "      <td>Servicemember</td>\n",
       "      <td>Consent provided</td>\n",
       "      <td>Web</td>\n",
       "      <td>2015-11-08</td>\n",
       "      <td>Closed with explanation</td>\n",
       "      <td>Yes</td>\n",
       "      <td>No</td>\n",
       "      <td>1645453</td>\n",
       "      <td>[collections account credit, credit report col...</td>\n",
       "    </tr>\n",
       "    <tr>\n",
       "      <th>7086</th>\n",
       "      <td>2016-10-26</td>\n",
       "      <td>Debt collection</td>\n",
       "      <td>Payday loan</td>\n",
       "      <td>Improper contact or sharing of info</td>\n",
       "      <td>Contacted me after I asked not to</td>\n",
       "      <td>Company called Premier Portfolio Group continu...</td>\n",
       "      <td>Company believes it acted appropriately as aut...</td>\n",
       "      <td>Premier Portfolio Group</td>\n",
       "      <td>SD</td>\n",
       "      <td>57702.0</td>\n",
       "      <td>Servicemember</td>\n",
       "      <td>Consent provided</td>\n",
       "      <td>Web</td>\n",
       "      <td>2016-10-28</td>\n",
       "      <td>Closed with explanation</td>\n",
       "      <td>Yes</td>\n",
       "      <td>No</td>\n",
       "      <td>2180605</td>\n",
       "      <td>[phone numbers company, numbers company calls,...</td>\n",
       "    </tr>\n",
       "    <tr>\n",
       "      <th>7107</th>\n",
       "      <td>2016-10-28</td>\n",
       "      <td>Debt collection</td>\n",
       "      <td>I do not know</td>\n",
       "      <td>Taking/threatening an illegal action</td>\n",
       "      <td>Sued where didn't live/sign for debt</td>\n",
       "      <td>The firm of Pressler &amp; Pressler has filed a le...</td>\n",
       "      <td>Company believes it acted appropriately as aut...</td>\n",
       "      <td>Pressler &amp; Pressler, LLP</td>\n",
       "      <td>NJ</td>\n",
       "      <td>7726.0</td>\n",
       "      <td>Servicemember</td>\n",
       "      <td>Consent provided</td>\n",
       "      <td>Web</td>\n",
       "      <td>2016-10-28</td>\n",
       "      <td>Closed with explanation</td>\n",
       "      <td>Yes</td>\n",
       "      <td>No</td>\n",
       "      <td>2183670</td>\n",
       "      <td>[bank contacting pressler, contacted claimed d...</td>\n",
       "    </tr>\n",
       "    <tr>\n",
       "      <th>7125</th>\n",
       "      <td>2016-02-04</td>\n",
       "      <td>Debt collection</td>\n",
       "      <td>Credit card</td>\n",
       "      <td>Taking/threatening an illegal action</td>\n",
       "      <td>Attempted to/Collected exempt funds</td>\n",
       "      <td>I became behind on my Military Star Card when ...</td>\n",
       "      <td>Company believes it acted appropriately as aut...</td>\n",
       "      <td>Army and Air Force Exchange Service</td>\n",
       "      <td>VA</td>\n",
       "      <td>22554.0</td>\n",
       "      <td>Servicemember</td>\n",
       "      <td>Consent provided</td>\n",
       "      <td>Web</td>\n",
       "      <td>2016-02-04</td>\n",
       "      <td>Closed with explanation</td>\n",
       "      <td>Yes</td>\n",
       "      <td>Yes</td>\n",
       "      <td>1774097</td>\n",
       "      <td>[told filing hardship, filing hardship, bills ...</td>\n",
       "    </tr>\n",
       "  </tbody>\n",
       "</table>\n",
       "</div>"
      ],
      "text/plain": [
       "     Date received          Product                            Sub-product   \n",
       "6880    2016-02-16  Debt collection  Other (i.e. phone, health club, etc.)  \\\n",
       "6931    2015-11-08  Debt collection                                Medical   \n",
       "7086    2016-10-26  Debt collection                            Payday loan   \n",
       "7107    2016-10-28  Debt collection                          I do not know   \n",
       "7125    2016-02-04  Debt collection                            Credit card   \n",
       "\n",
       "                                      Issue   \n",
       "6880  Cont'd attempts collect debt not owed  \\\n",
       "6931        Disclosure verification of debt   \n",
       "7086    Improper contact or sharing of info   \n",
       "7107   Taking/threatening an illegal action   \n",
       "7125   Taking/threatening an illegal action   \n",
       "\n",
       "                                 Sub-issue   \n",
       "6880                         Debt was paid  \\\n",
       "6931  Right to dispute notice not received   \n",
       "7086     Contacted me after I asked not to   \n",
       "7107  Sued where didn't live/sign for debt   \n",
       "7125   Attempted to/Collected exempt funds   \n",
       "\n",
       "                                              narrative   \n",
       "6880  I was given a notice to vacate XX/XX/2015. I p...  \\\n",
       "6931  I called this Revenue Recovery to ask for an i...   \n",
       "7086  Company called Premier Portfolio Group continu...   \n",
       "7107  The firm of Pressler & Pressler has filed a le...   \n",
       "7125  I became behind on my Military Star Card when ...   \n",
       "\n",
       "                                Company public response   \n",
       "6880  Company believes the complaint is the result o...  \\\n",
       "6931   Company chooses not to provide a public response   \n",
       "7086  Company believes it acted appropriately as aut...   \n",
       "7107  Company believes it acted appropriately as aut...   \n",
       "7125  Company believes it acted appropriately as aut...   \n",
       "\n",
       "                                  Company State ZIP code           Tags   \n",
       "6880                      HW Holding, Inc    FL  34711.0  Servicemember  \\\n",
       "6931         Revenue Recovery Corporation    KY  40272.0  Servicemember   \n",
       "7086              Premier Portfolio Group    SD  57702.0  Servicemember   \n",
       "7107             Pressler & Pressler, LLP    NJ   7726.0  Servicemember   \n",
       "7125  Army and Air Force Exchange Service    VA  22554.0  Servicemember   \n",
       "\n",
       "     Consumer consent provided? Submitted via Date sent to company   \n",
       "6880           Consent provided           Web           2016-02-19  \\\n",
       "6931           Consent provided           Web           2015-11-08   \n",
       "7086           Consent provided           Web           2016-10-28   \n",
       "7107           Consent provided           Web           2016-10-28   \n",
       "7125           Consent provided           Web           2016-02-04   \n",
       "\n",
       "     Company response to consumer Timely response? Consumer disputed?   \n",
       "6880      Closed with explanation              Yes                 No  \\\n",
       "6931      Closed with explanation              Yes                 No   \n",
       "7086      Closed with explanation              Yes                 No   \n",
       "7107      Closed with explanation              Yes                 No   \n",
       "7125      Closed with explanation              Yes                Yes   \n",
       "\n",
       "      Complaint ID                                narrative_keyngrams  \n",
       "6880       1788003  [termination fees rent, given notice vacate, e...  \n",
       "6931       1645453  [collections account credit, credit report col...  \n",
       "7086       2180605  [phone numbers company, numbers company calls,...  \n",
       "7107       2183670  [bank contacting pressler, contacted claimed d...  \n",
       "7125       1774097  [told filing hardship, filing hardship, bills ...  "
      ]
     },
     "execution_count": 35,
     "metadata": {},
     "output_type": "execute_result"
    }
   ],
   "source": [
    "complaints.head(5)"
   ]
  },
  {
   "cell_type": "code",
   "execution_count": 44,
   "id": "bdc394cf-dd2f-4894-864d-056276e19095",
   "metadata": {
    "tags": []
   },
   "outputs": [
    {
     "data": {
      "text/plain": [
       "6880       None\n",
       "6931       None\n",
       "7086       None\n",
       "7107       None\n",
       "7125       None\n",
       "           ... \n",
       "3249401    None\n",
       "3249707    None\n",
       "3250032    None\n",
       "3250183    None\n",
       "3250394    None\n",
       "Name: narrative_keyngrams, Length: 3000, dtype: object"
      ]
     },
     "execution_count": 44,
     "metadata": {},
     "output_type": "execute_result"
    }
   ],
   "source": [
    "all_ngrams = []\n",
    "complaints[\"narrative_keyngrams\"].apply(lambda x: all_ngrams.extend(x))\n",
    "#set(all_ngrams)"
   ]
  },
  {
   "cell_type": "code",
   "execution_count": null,
   "id": "11756204-be3c-4310-ae9a-e03d63dd4efe",
   "metadata": {},
   "outputs": [],
   "source": [
    "sns.heatmap(complaints, x=\"\")"
   ]
  },
  {
   "cell_type": "code",
   "execution_count": 48,
   "id": "2a19a90c-c317-4136-bf6c-b21fd5e4d2e3",
   "metadata": {
    "tags": []
   },
   "outputs": [],
   "source": [
    "import plotly.express as px"
   ]
  },
  {
   "cell_type": "code",
   "execution_count": 47,
   "id": "b12537e8-d5e6-4569-ade5-77e4e60e46aa",
   "metadata": {
    "tags": []
   },
   "outputs": [
    {
     "name": "stdout",
     "output_type": "stream",
     "text": [
      "Defaulting to user installation because normal site-packages is not writeable\n",
      "Requirement already satisfied: plotly in c:\\users\\user_elisey\\appdata\\roaming\\python\\python310\\site-packages (5.14.1)\n",
      "Requirement already satisfied: packaging in c:\\users\\user_elisey\\appdata\\roaming\\python\\python310\\site-packages (from plotly) (23.0)\n",
      "Requirement already satisfied: tenacity>=6.2.0 in c:\\users\\user_elisey\\appdata\\roaming\\python\\python310\\site-packages (from plotly) (8.2.2)\n"
     ]
    },
    {
     "name": "stderr",
     "output_type": "stream",
     "text": [
      "\n",
      "[notice] A new release of pip available: 22.2.2 -> 23.0.1\n",
      "[notice] To update, run: python.exe -m pip install --upgrade pip\n"
     ]
    }
   ],
   "source": [
    "!pip install plotly"
   ]
  },
  {
   "cell_type": "code",
   "execution_count": 58,
   "id": "2933d79d-16f1-4e08-9c36-5781e75d0b47",
   "metadata": {
    "tags": []
   },
   "outputs": [],
   "source": [
    "tfidf = TfidfVectorizer(max_df=0.95, min_df=2, stop_words='english')"
   ]
  },
  {
   "cell_type": "code",
   "execution_count": 61,
   "id": "de1e190c-a32e-41d6-b80e-36850fd47578",
   "metadata": {
    "tags": []
   },
   "outputs": [],
   "source": [
    "dtm = tfidf.fit_transform(complaints['narrative_keyngrams'].apply(lambda x: \" \".join(x)))"
   ]
  },
  {
   "cell_type": "code",
   "execution_count": 67,
   "id": "7eeb057e-8a01-46ec-9ab9-089308d85826",
   "metadata": {
    "tags": []
   },
   "outputs": [
    {
     "data": {
      "text/plain": [
       "<3000x1542 sparse matrix of type '<class 'numpy.float64'>'\n",
       "\twith 22285 stored elements in Compressed Sparse Row format>"
      ]
     },
     "execution_count": 67,
     "metadata": {},
     "output_type": "execute_result"
    }
   ],
   "source": [
    "dtm"
   ]
  },
  {
   "cell_type": "code",
   "execution_count": 72,
   "id": "e56bdf46-dcec-4c56-b596-5bf76ad0be47",
   "metadata": {
    "tags": []
   },
   "outputs": [],
   "source": [
    "bow = CountVectorizer()\n",
    "bow_vectors = bow.fit_transform(complaints['narrative_keyngrams'].apply(lambda x: \" \".join(x)))"
   ]
  },
  {
   "cell_type": "code",
   "execution_count": 71,
   "id": "7cade1c9-ef2d-4a49-9570-1a36462c69aa",
   "metadata": {
    "tags": []
   },
   "outputs": [
    {
     "data": {
      "text/plain": [
       "<3000x3047 sparse matrix of type '<class 'numpy.int64'>'\n",
       "\twith 23790 stored elements in Compressed Sparse Row format>"
      ]
     },
     "execution_count": 71,
     "metadata": {},
     "output_type": "execute_result"
    }
   ],
   "source": [
    "bow_vectors"
   ]
  }
 ],
 "metadata": {
  "kernelspec": {
   "display_name": "Python 3 (ipykernel)",
   "language": "python",
   "name": "python3"
  },
  "language_info": {
   "codemirror_mode": {
    "name": "ipython",
    "version": 3
   },
   "file_extension": ".py",
   "mimetype": "text/x-python",
   "name": "python",
   "nbconvert_exporter": "python",
   "pygments_lexer": "ipython3",
   "version": "3.10.7"
  }
 },
 "nbformat": 4,
 "nbformat_minor": 5
}
