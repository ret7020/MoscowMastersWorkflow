{
 "cells": [
  {
   "cell_type": "code",
   "execution_count": 1,
   "id": "70e8759b-497b-4002-ae7b-29f39d3592a5",
   "metadata": {
    "tags": []
   },
   "outputs": [],
   "source": [
    "import pandas as pd\n",
    "import numpy as np\n",
    "import matplotlib.pyplot as plt\n",
    "import seaborn as sns"
   ]
  },
  {
   "cell_type": "code",
   "execution_count": 2,
   "id": "65842404-66e4-41a3-b53c-f2630c4380b6",
   "metadata": {
    "tags": []
   },
   "outputs": [],
   "source": [
    "complaints = pd.read_csv(\"./data/train.csv\")"
   ]
  },
  {
   "cell_type": "code",
   "execution_count": 3,
   "id": "c3a27a83-4b7e-4d1f-ab21-d1c5ca9b5781",
   "metadata": {
    "tags": []
   },
   "outputs": [
    {
     "data": {
      "text/html": [
       "<div>\n",
       "<style scoped>\n",
       "    .dataframe tbody tr th:only-of-type {\n",
       "        vertical-align: middle;\n",
       "    }\n",
       "\n",
       "    .dataframe tbody tr th {\n",
       "        vertical-align: top;\n",
       "    }\n",
       "\n",
       "    .dataframe thead th {\n",
       "        text-align: right;\n",
       "    }\n",
       "</style>\n",
       "<table border=\"1\" class=\"dataframe\">\n",
       "  <thead>\n",
       "    <tr style=\"text-align: right;\">\n",
       "      <th></th>\n",
       "      <th>Unnamed: 0</th>\n",
       "      <th>product</th>\n",
       "      <th>narrative</th>\n",
       "    </tr>\n",
       "  </thead>\n",
       "  <tbody>\n",
       "    <tr>\n",
       "      <th>0</th>\n",
       "      <td>0</td>\n",
       "      <td>credit_card</td>\n",
       "      <td>purchase order day shipping amount receive pro...</td>\n",
       "    </tr>\n",
       "    <tr>\n",
       "      <th>1</th>\n",
       "      <td>1</td>\n",
       "      <td>credit_card</td>\n",
       "      <td>forwarded message date tue subject please inve...</td>\n",
       "    </tr>\n",
       "    <tr>\n",
       "      <th>2</th>\n",
       "      <td>2</td>\n",
       "      <td>retail_banking</td>\n",
       "      <td>forwarded message cc sent friday pdt subject f...</td>\n",
       "    </tr>\n",
       "    <tr>\n",
       "      <th>3</th>\n",
       "      <td>3</td>\n",
       "      <td>credit_reporting</td>\n",
       "      <td>payment history missing credit report speciali...</td>\n",
       "    </tr>\n",
       "    <tr>\n",
       "      <th>4</th>\n",
       "      <td>4</td>\n",
       "      <td>credit_reporting</td>\n",
       "      <td>payment history missing credit report made mis...</td>\n",
       "    </tr>\n",
       "    <tr>\n",
       "      <th>5</th>\n",
       "      <td>5</td>\n",
       "      <td>credit_reporting</td>\n",
       "      <td>payment history missing credit report made mis...</td>\n",
       "    </tr>\n",
       "    <tr>\n",
       "      <th>6</th>\n",
       "      <td>6</td>\n",
       "      <td>credit_reporting</td>\n",
       "      <td>va date complaint experian credit bureau invol...</td>\n",
       "    </tr>\n",
       "    <tr>\n",
       "      <th>7</th>\n",
       "      <td>7</td>\n",
       "      <td>credit_reporting</td>\n",
       "      <td>account reported abbreviated name full name se...</td>\n",
       "    </tr>\n",
       "    <tr>\n",
       "      <th>8</th>\n",
       "      <td>8</td>\n",
       "      <td>credit_reporting</td>\n",
       "      <td>account reported abbreviated name full name se...</td>\n",
       "    </tr>\n",
       "    <tr>\n",
       "      <th>9</th>\n",
       "      <td>9</td>\n",
       "      <td>credit_reporting</td>\n",
       "      <td>usdoexxxx account reported abbreviated name fu...</td>\n",
       "    </tr>\n",
       "  </tbody>\n",
       "</table>\n",
       "</div>"
      ],
      "text/plain": [
       "   Unnamed: 0           product  \\\n",
       "0           0       credit_card   \n",
       "1           1       credit_card   \n",
       "2           2    retail_banking   \n",
       "3           3  credit_reporting   \n",
       "4           4  credit_reporting   \n",
       "5           5  credit_reporting   \n",
       "6           6  credit_reporting   \n",
       "7           7  credit_reporting   \n",
       "8           8  credit_reporting   \n",
       "9           9  credit_reporting   \n",
       "\n",
       "                                           narrative  \n",
       "0  purchase order day shipping amount receive pro...  \n",
       "1  forwarded message date tue subject please inve...  \n",
       "2  forwarded message cc sent friday pdt subject f...  \n",
       "3  payment history missing credit report speciali...  \n",
       "4  payment history missing credit report made mis...  \n",
       "5  payment history missing credit report made mis...  \n",
       "6  va date complaint experian credit bureau invol...  \n",
       "7  account reported abbreviated name full name se...  \n",
       "8  account reported abbreviated name full name se...  \n",
       "9  usdoexxxx account reported abbreviated name fu...  "
      ]
     },
     "execution_count": 3,
     "metadata": {},
     "output_type": "execute_result"
    }
   ],
   "source": [
    "complaints.head(10)"
   ]
  },
  {
   "cell_type": "code",
   "execution_count": 4,
   "id": "dc7d9057-627e-4fa3-91ad-e49a9ebc0177",
   "metadata": {
    "tags": []
   },
   "outputs": [],
   "source": [
    "dimension_vc = complaints['product'].value_counts()"
   ]
  },
  {
   "cell_type": "code",
   "execution_count": 5,
   "id": "d4f142f5-8f6f-4a01-ad50-2b7f00d7f1a3",
   "metadata": {
    "tags": []
   },
   "outputs": [
    {
     "data": {
      "text/plain": [
       "credit_reporting       91179\n",
       "debt_collection        23150\n",
       "mortgages_and_loans    18990\n",
       "credit_card            15566\n",
       "retail_banking         13536\n",
       "Name: product, dtype: int64"
      ]
     },
     "execution_count": 5,
     "metadata": {},
     "output_type": "execute_result"
    }
   ],
   "source": [
    "dimension_vc"
   ]
  },
  {
   "cell_type": "code",
   "execution_count": 6,
   "id": "a4efb67e-4ab6-49cc-9259-faaa80e2c85b",
   "metadata": {
    "tags": []
   },
   "outputs": [
    {
     "data": {
      "image/png": "[encoded data removed]",
      "text/plain": [
       "<Figure size 2000x800 with 1 Axes>"
      ]
     },
     "metadata": {},
     "output_type": "display_data"
    }
   ],
   "source": [
    "names = [i[:5] for i in dimension_vc.index]\n",
    "fig, ax = plt.subplots(1,1,figsize=(20,8))\n",
    "dimension_vc = complaints['product'].value_counts()\n",
    "ax.bar(range(len(dimension_vc)), dimension_vc) \n",
    "ax.set_xticks(range(len(dimension_vc)))\n",
    "ax.set_xticklabels(names, fontsize=16)\n",
    "for rect, c, value in zip(ax.patches, ['b', 'r', 'g', 'y'], dimension_vc.values):\n",
    "    rect.set_color(c)\n",
    "    height = rect.get_height()\n",
    "    width = rect.get_width()\n",
    "    x_loc = rect.get_x()\n",
    "    ax.text(x_loc + width / 2, 0.9 * height, value, ha='center', va='center', fontsize=12, color='white')\n"
   ]
  },
  {
   "cell_type": "code",
   "execution_count": 7,
   "id": "e76fdeda-d2dc-49c9-9246-f9a23bd9cfa8",
   "metadata": {
    "tags": []
   },
   "outputs": [],
   "source": [
    "complaints = complaints.dropna()"
   ]
  },
  {
   "cell_type": "code",
   "execution_count": 8,
   "id": "e4fc7868-df37-4c58-99a9-3be9fd11edf5",
   "metadata": {
    "tags": []
   },
   "outputs": [
    {
     "data": {
      "text/plain": [
       "Unnamed: 0    0\n",
       "product       0\n",
       "narrative     0\n",
       "dtype: int64"
      ]
     },
     "execution_count": 8,
     "metadata": {},
     "output_type": "execute_result"
    }
   ],
   "source": [
    "complaints.isna().sum()"
   ]
  },
  {
   "cell_type": "code",
   "execution_count": 21,
   "id": "2dd99237-7fb4-4464-b160-82ed6321161e",
   "metadata": {
    "tags": []
   },
   "outputs": [
    {
     "ename": "NameError",
     "evalue": "name 'a' is not defined",
     "output_type": "error",
     "traceback": [
      "\u001b[0;31m---------------------------------------------------------------------------\u001b[0m",
      "\u001b[0;31mNameError\u001b[0m                                 Traceback (most recent call last)",
      "Cell \u001b[0;32mIn[21], line 1\u001b[0m\n\u001b[0;32m----> 1\u001b[0m \u001b[38;5;28;01mdel\u001b[39;00m a\n",
      "\u001b[0;31mNameError\u001b[0m: name 'a' is not defined"
     ]
    }
   ],
   "source": [
    "del a"
   ]
  },
  {
   "cell_type": "code",
   "execution_count": null,
   "id": "70316e0b-11c2-4851-bb21-2fb666405a4e",
   "metadata": {
    "tags": []
   },
   "outputs": [],
   "source": [
    "# document_lengths = np.array(list(map(len, complaints['narrative'].str.split(' '))))\n",
    "# print(\"The average number of words in a document is: {}.\".format(np.mean(document_lengths)))\n",
    "# print(\"The minimum number of words in a document is: {}.\".format(min(document_lengths)))\n",
    "# print(\"The maximum number of words in a document is: {}.\".format(max(document_lengths)))\n",
    "# fig, ax = plt.subplots(figsize=(15,6))\n",
    "# print(\"There are {} documents with tops 5 words.\".format(sum(document_lengths <= 5)))\n",
    "# ## Distribution of number of words\n",
    "# fig, ax = plt.subplots(figsize=(15,6))\n",
    "# ax.set_title(\"Distribution of number of words\", fontsize=16)\n",
    "# ax.set_xlabel(\"Number of words\")\n",
    "# sns.distplot(document_lengths, bins=50, ax=ax)\n"
   ]
  }
 ],
 "metadata": {
  "kernelspec": {
   "display_name": "Python 3 (ipykernel)",
   "language": "python",
   "name": "python3"
  },
  "language_info": {
   "codemirror_mode": {
    "name": "ipython",
    "version": 3
   },
   "file_extension": ".py",
   "mimetype": "text/x-python",
   "name": "python",
   "nbconvert_exporter": "python",
   "pygments_lexer": "ipython3",
   "version": "3.10.8"
  }
 },
 "nbformat": 4,
 "nbformat_minor": 5
}
