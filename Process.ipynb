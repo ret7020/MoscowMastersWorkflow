{
 "cells": [
  {
   "cell_type": "code",
   "execution_count": null,
   "id": "223c1d5d-2896-45d0-b15d-1a1833319b3c",
   "metadata": {},
   "outputs": [],
   "source": [
    "sessions = [[j] + [random.randint(0, 20) for i in range(10)] + [bool(random.randint(0, 1))] for j in range(2000)]\n",
    "df_test = pd.DataFrame(sessions, columns = [\"session_id\", \"site_0\", \"time_0\", \"site_1\", \"site_2\", \"site_3\", \"site_4\", \"site_5\", \"site_6\", \"site_7\", \"site_8\", \"site_9\", \"target\"])\n"
   ]
  }
 ],
 "metadata": {
  "kernelspec": {
   "display_name": "Python 3 (ipykernel)",
   "language": "python",
   "name": "python3"
  },
  "language_info": {
   "codemirror_mode": {
    "name": "ipython",
    "version": 3
   },
   "file_extension": ".py",
   "mimetype": "text/x-python",
   "name": "python",
   "nbconvert_exporter": "python",
   "pygments_lexer": "ipython3",
   "version": "3.10.8"
  }
 },
 "nbformat": 4,
 "nbformat_minor": 5
}
